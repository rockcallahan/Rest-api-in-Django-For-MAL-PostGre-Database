{
 "cells": [
  {
   "cell_type": "code",
   "execution_count": 20,
   "outputs": [
    {
     "name": "stdout",
     "text": [
      "<class 'pandas.core.frame.DataFrame'>\nRangeIndex: 5204 entries, 0 to 5203\nData columns (total 15 columns):\ntitle          5204 non-null object\nrank           5204 non-null int64\nscore          5204 non-null float64\nusers_rated    5204 non-null int64\nPopularity     5204 non-null int64\nFavorites      5204 non-null int64\nMembers        5204 non-null int64\nanimeType      5204 non-null object\nEpisodes       5204 non-null object\nstatus         5204 non-null object\npremiered      5204 non-null object\nstudio         5204 non-null object\nsource         5204 non-null object\nrating         5204 non-null object\ngenres         5201 non-null object\ndtypes: float64(1), int64(5), object(9)\nmemory usage: 427.0+ KB\n"
     ],
     "output_type": "stream"
    }
   ],
   "source": [
    "import pandas as pd\n",
    "df=pd.read_csv('Data//animes_cleaned.csv')\n",
    "df.info()\n"
   ],
   "metadata": {
    "collapsed": false,
    "pycharm": {
     "name": "#%%\n",
     "is_executing": false
    }
   }
  }
 ],
 "metadata": {
  "kernelspec": {
   "display_name": "Python 3",
   "language": "python",
   "name": "python3"
  },
  "language_info": {
   "codemirror_mode": {
    "name": "ipython",
    "version": 3
   },
   "file_extension": ".py",
   "mimetype": "text/x-python",
   "name": "python",
   "nbconvert_exporter": "python",
   "pygments_lexer": "ipython3",
   "version": "3.7.4"
  },
  "pycharm": {
   "stem_cell": {
    "cell_type": "raw",
    "source": [],
    "metadata": {
     "collapsed": false
    }
   }
  }
 },
 "nbformat": 4,
 "nbformat_minor": 2
}